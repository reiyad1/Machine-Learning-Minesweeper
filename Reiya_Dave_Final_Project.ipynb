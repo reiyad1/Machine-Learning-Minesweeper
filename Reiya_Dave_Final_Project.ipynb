{
  "nbformat": 4,
  "nbformat_minor": 0,
  "metadata": {
    "colab": {
      "provenance": [],
      "gpuType": "T4",
      "authorship_tag": "ABX9TyMVNQKQi4R0hwo0mXk19ymW",
      "include_colab_link": true
    },
    "kernelspec": {
      "name": "python3",
      "display_name": "Python 3"
    },
    "language_info": {
      "name": "python"
    },
    "accelerator": "GPU"
  },
  "cells": [
    {
      "cell_type": "markdown",
      "metadata": {
        "id": "view-in-github",
        "colab_type": "text"
      },
      "source": [
        "<a href=\"https://colab.research.google.com/github/reiyad1/Machine-Learning-Minesweeper/blob/main/Reiya_Dave_Final_Project.ipynb\" target=\"_parent\"><img src=\"https://colab.research.google.com/assets/colab-badge.svg\" alt=\"Open In Colab\"/></a>"
      ]
    },
    {
      "cell_type": "markdown",
      "source": [
        "#TASK 1"
      ],
      "metadata": {
        "id": "6ei0Kaf2El6S"
      }
    },
    {
      "cell_type": "code",
      "execution_count": null,
      "metadata": {
        "id": "9niBfytsEiRg"
      },
      "outputs": [],
      "source": [
        "#imports\n",
        "import numpy as np\n",
        "import random\n",
        "import torch\n",
        "import tensorflow as tf\n",
        "from torch.utils.data import TensorDataset, DataLoader, Dataset\n",
        "import torch.nn as nn\n",
        "import torch.optim as optim\n",
        "\n",
        "import matplotlib.pyplot as plt"
      ]
    },
    {
      "cell_type": "markdown",
      "source": [
        "The code below is for making the board. I will have -2 represent mine cells, and values 0-8 representing safe cells and their corresponding clues."
      ],
      "metadata": {
        "id": "Ess18oJLE9RN"
      }
    },
    {
      "cell_type": "code",
      "source": [
        "#initialize board\n",
        "\n",
        "def make_board(height, width, mines):\n",
        "  grid = np.zeros((height, width), dtype=int)\n",
        "\n",
        "  mine_positions = set()\n",
        "\n",
        "  while len(mine_positions) < mines:\n",
        "    new_mine = (np.random.randint(0, height), np.random.randint(0, width))\n",
        "    mine_positions.add(new_mine)\n",
        "\n",
        "  for mine in mine_positions:\n",
        "    grid[mine] = -2\n",
        "    for x in range(max(mine[0]-1, 0), min(mine[0]+2, height)):\n",
        "      for y in range(max(mine[1]-1, 0), min(mine[1]+2, width)):\n",
        "        if grid[x, y] != -2:\n",
        "          grid[x, y] += 1\n",
        "\n",
        "  return grid\n"
      ],
      "metadata": {
        "id": "tbuyVnpdP8dy"
      },
      "execution_count": null,
      "outputs": []
    },
    {
      "cell_type": "code",
      "source": [
        "easy_board = make_board(9, 9, 10)\n",
        "medium_board = make_board(16, 16, 40)\n",
        "hard_board = make_board(30, 16, 99)\n",
        "\n",
        "print(easy_board)\n",
        "\n",
        "print(medium_board)\n",
        "\n",
        "print(hard_board)"
      ],
      "metadata": {
        "colab": {
          "base_uri": "https://localhost:8080/"
        },
        "id": "lvBHQWu_TKgv",
        "outputId": "e9f35793-2d80-4b05-d09d-96e9df664935"
      },
      "execution_count": null,
      "outputs": [
        {
          "output_type": "stream",
          "name": "stdout",
          "text": [
            "[[ 2 -2  3  2 -2  1  0  0  0]\n",
            " [ 3 -2  3 -2  2  1  0  0  0]\n",
            " [-2  2  2  1  1  1  1  2  1]\n",
            " [ 2  3  2  1  0  1 -2  2 -2]\n",
            " [ 2 -2 -2  1  0  1  1  2  1]\n",
            " [-2  3  2  1  0  0  0  0  0]\n",
            " [ 1  1  0  0  0  0  0  0  0]\n",
            " [ 0  0  0  0  0  0  0  0  0]\n",
            " [ 0  0  0  0  0  0  0  0  0]]\n",
            "[[ 1  1  0  0  0  0  0  0  1  1  1  0  0  0  0  0]\n",
            " [-2  1  0  0  0  0  1  1  3 -2  2  0  0  0  0  0]\n",
            " [ 1  1  0  0  0  0  1 -2  3 -2  2  1  1  1  1  1]\n",
            " [ 0  0  0  0  0  0  1  1  3  2  2  1 -2  1  1 -2]\n",
            " [ 0  0  0  0  0  0  0  1  3 -2  4  4  3  2  2  2]\n",
            " [ 0  0  1  1  1  0  0  1 -2 -2 -2 -2 -2  1  2 -2]\n",
            " [ 0  0  2 -2  2  0  1  2  3  3  4  4  3  1  2 -2]\n",
            " [ 0  1  3 -2  2  0  1 -2  1  0  1 -2  1  0  1  1]\n",
            " [ 0  1 -2  2  1  0  1  1  1  0  1  1  2  1  1  0]\n",
            " [ 0  1  1  1  0  0  0  1  1  1  1  1  2 -2  1  0]\n",
            " [ 0  0  0  0  0  0  0  1 -2  1  1 -2  2  1  1  0]\n",
            " [ 1  1  0  0  1  1  1  1  1  1  1  1  1  0  1  1]\n",
            " [-2  1  0  1  3 -2  3  1  1  0  1  2  2  1  1 -2]\n",
            " [ 1  2  2  3 -2 -2  4 -2  2  1  1 -2 -2  3  3  2]\n",
            " [ 0  1 -2 -2  4  4 -2  3 -2  2  3  4 -2 -2  2 -2]\n",
            " [ 0  1  2  3 -2  2  1  2  2 -2  2 -2  3  2  2  1]]\n",
            "[[ 0  0  0  0  0  0  0  0  0  0  2 -2  2  1  1  1]\n",
            " [ 1  1  2  1  1  0  1  2  3  2  3 -2  2  1 -2  2]\n",
            " [ 1 -2  3 -2  2  1  2 -2 -2 -2  3  2  2  2  3 -2]\n",
            " [ 1  3 -2  3  3 -2  3  3 -2  4 -2  1  1 -2  2  1]\n",
            " [ 0  3 -2  4  3 -2  4  4  3  3  1  1  1  1  1  0]\n",
            " [ 1  3 -2  3 -2  3 -2 -2 -2  2  1  1  1  2  2  1]\n",
            " [ 1 -2  2  3  2  4  3  5  3  3 -2  1  1 -2 -2  1]\n",
            " [ 1  1  1  2 -2  3 -2  2 -2  2  1  1  1  2  2  1]\n",
            " [ 1  1  0  2 -2  3  1  2  1  2  1  1  0  0  0  0]\n",
            " [-2  1  1  2  2  1  0  0  1  2 -2  1  0  0  0  0]\n",
            " [ 1  1  1 -2  1  0  0  0  1 -2  3  3  1  1  0  0]\n",
            " [ 0  0  1  2  2  1  0  1  3  5 -2  4 -2  2  1  0]\n",
            " [ 0  0  0  2 -2  2  0  1 -2 -2 -2 -2  4 -2  1  0]\n",
            " [ 1  1  0  2 -2  2  0  1  3  4  4  3 -2  4  3  1]\n",
            " [-2  2  2  3  3  2  0  0  1 -2  2  3  3 -2 -2  1]\n",
            " [ 2 -2  2 -2 -2  1  0  0  1  2 -2  3 -2  3  2  1]\n",
            " [ 2  2  3  3  3  1  0  0  0  2  3 -2  2  1  1  1]\n",
            " [-2  2  2 -2  1  1  1  2  1  2 -2  3  2  0  1 -2]\n",
            " [ 1  2 -2  2  1  1 -2  2 -2  2  2 -2  2  1  2  1]\n",
            " [ 0  1  2  2  1  1  1  2  1  1  1  1  3 -2  2  0]\n",
            " [ 0  0  1 -2  1  1  1  1  0  0  0  1  3 -2  2  0]\n",
            " [ 0  0  2  2  2  1 -2  1  0  1  2  3 -2  2  1  0]\n",
            " [ 1  1  2 -2  1  2  2  2  0  1 -2 -2  3  3  2  1]\n",
            " [ 2 -2  2  2  2  3 -2  3  2  3  3  3  4 -2 -2  2]\n",
            " [-2  4  3  3 -2  4 -2  4 -2 -2  3  2 -2 -2  4 -2]\n",
            " [-2  5 -2 -2  3  4 -2  3  3 -2 -2  2  2  3  3  2]\n",
            " [ 3 -2 -2  4 -2  3  2  2  1  2  2  1  0  1 -2  1]\n",
            " [-2  4  3  3  1  2 -2  2  1  1  0  0  0  2  2  2]\n",
            " [ 1  2 -2  1  1  3  3  4 -2  2  0  0  0  1 -2  1]\n",
            " [ 0  1  1  1  1 -2 -2  3 -2  2  0  0  0  1  1  1]]\n"
          ]
        }
      ]
    },
    {
      "cell_type": "markdown",
      "source": [
        "The code below is for the logic bot. The logic bot follows the pseudocode steps from the assignment writeup."
      ],
      "metadata": {
        "id": "_VeaVGLuFJBC"
      }
    },
    {
      "cell_type": "code",
      "source": [
        "#get neighbors of a cell in a row\n",
        "def get_neighbors(row, col, height, width):\n",
        "    neighbors = []\n",
        "    for i in range(max(0, row - 1), min(row + 2, height)):\n",
        "      for j in range(max(0, col - 1), min(col + 2, width)):\n",
        "        if i != row or j != col:\n",
        "          neighbors.append((i, j))\n",
        "    return neighbors"
      ],
      "metadata": {
        "id": "87Ezg8AV0T-v"
      },
      "execution_count": null,
      "outputs": []
    },
    {
      "cell_type": "code",
      "source": [
        "#initialize the playing board- this will be updated as the game states for model training\n",
        "def init_game_board(height, width):\n",
        "  board = torch.full((height, width), -1)\n",
        "  return board"
      ],
      "metadata": {
        "id": "Ppr9peC-JyRJ"
      },
      "execution_count": null,
      "outputs": []
    },
    {
      "cell_type": "code",
      "source": [
        "\n",
        "#new logic bot\n",
        "def play_logic_bot(board, height, width):\n",
        "  cells_remaining = set((x, y) for x in range(height) for y in range(width))\n",
        "  inferred_safe = set()\n",
        "  inferred_mine = set()\n",
        "  clue_number = {}\n",
        "\n",
        "  #arrays to store game states and target values in\n",
        "  game_states = []\n",
        "  targets = []\n",
        "\n",
        "  #get initial game board with all unrevealed cells\n",
        "  playing_board = init_game_board(height, width)\n",
        "\n",
        "  game_won = True\n",
        "\n",
        "  iteration = 0\n",
        "\n",
        "  while cells_remaining:\n",
        "    #get the first cell\n",
        "    if iteration == 0:\n",
        "      cell = random.choice([t for t in cells_remaining if board[t[0]][t[1]] != -2])\n",
        "    #get the cell\n",
        "    if inferred_safe:\n",
        "      cell = inferred_safe.pop()\n",
        "    else:\n",
        "      cell = random.choice(list(cells_remaining))\n",
        "    x, y = cell\n",
        "\n",
        "    #update iteration\n",
        "    iteration += 1\n",
        "\n",
        "    #update game board and add to game states array. add actual board to target array\n",
        "    playing_board[x, y] = board[x][y]\n",
        "    game_states.append(playing_board)\n",
        "    targets.append(torch.from_numpy(board))\n",
        "\n",
        "\n",
        "    #if cell is mine, end game and return its lost\n",
        "    if board[x][y] == -2:\n",
        "      game_won = False\n",
        "      break\n",
        "\n",
        "    #update clue number dict\n",
        "    clue_number[(x, y)] = board[x][y]\n",
        "\n",
        "    #get neighbors of the cell\n",
        "    neighbors_list = get_neighbors(x, y, height, width)\n",
        "\n",
        "    #if clue is 0 (no surrounding mines), put the cell's neighbors in inferred safe\n",
        "    if board[x][y] == 0:\n",
        "      inferred_safe.update(neighbors_list)\n",
        "\n",
        "    #if clue is greater than 0, do stuff to update inferred mines\n",
        "    for neighbor in neighbors_list:\n",
        "      neighbor_row, neighbor_col = neighbor\n",
        "\n",
        "      #if neighbor is in cells remaining and is a mine, put in inferred mines\n",
        "      if neighbor in cells_remaining and board[neighbor_row][neighbor_col] == -2:\n",
        "        inferred_mine.add(neighbor)\n",
        "\n",
        "      surrounding_mines = sum(1 for n in get_neighbors(neighbor_row, neighbor_col, height, width) if n in inferred_mine)\n",
        "      unrevealed_neighbors = [n for n in get_neighbors(neighbor_row, neighbor_col, height, width) if n in cells_remaining]\n",
        "\n",
        "      if board[neighbor_row][neighbor_col] == surrounding_mines:\n",
        "        inferred_safe.update(unrevealed_neighbors)\n",
        "        cells_remaining.difference_update(unrevealed_neighbors)\n",
        "      elif board[neighbor_row, neighbor_col] - surrounding_mines == len(unrevealed_neighbors):\n",
        "        inferred_mine.update(unrevealed_neighbors)\n",
        "        cells_remaining.difference_update(unrevealed_neighbors)\n",
        "\n",
        "  #return game_won, array of game states, and array of target values\n",
        "  return game_won, game_states, targets, iteration\n",
        "\n"
      ],
      "metadata": {
        "id": "GTTXQ2kRmdGl"
      },
      "execution_count": null,
      "outputs": []
    },
    {
      "cell_type": "code",
      "source": [
        "#test out logic bot on 100 easy boards\n",
        "height = 9\n",
        "width = 9\n",
        "num_mines = 10\n",
        "wins = 0\n",
        "\n",
        "for _ in range(100):\n",
        "  board = make_board(height, width, num_mines)\n",
        "  #print(board)\n",
        "  result, game_states, targets, iteration = play_logic_bot(board, height, width)\n",
        "  if result:\n",
        "    wins += 1\n",
        "print(wins)\n"
      ],
      "metadata": {
        "colab": {
          "base_uri": "https://localhost:8080/"
        },
        "id": "cb2-CsxjrQXQ",
        "outputId": "78dca89e-c255-44ef-a5d3-b9304d46c5d5"
      },
      "execution_count": null,
      "outputs": [
        {
          "output_type": "stream",
          "name": "stdout",
          "text": [
            "6\n"
          ]
        }
      ]
    },
    {
      "cell_type": "markdown",
      "source": [
        "We can see that our logic bot is able to function properly. Now let's generate data for training. I will do this by using the logic bot to play lots of games. The logic bot will save each game state, which will be used for our X training data, while the Y training data is just the true board of 0s and 1s of where the mines are. I will have 0s represent safe cells and 1s represent mine cells."
      ],
      "metadata": {
        "id": "dTE3u7mhyRzb"
      }
    },
    {
      "cell_type": "markdown",
      "source": [
        "I will generate 100 easy boards, 100 intermediate boards, and 100 expert boards. I will then have the logic bot play each level of difficulty and save the game states and its target values. For each level, there will be a training set of data for the model to learn from."
      ],
      "metadata": {
        "id": "Aqf06PIGUluX"
      }
    },
    {
      "cell_type": "code",
      "source": [
        "#easy board data\n",
        "easy_game_states = []\n",
        "easy_targets = []\n",
        "for _ in range(1000):\n",
        "  board = make_board(9, 9, 10)\n",
        "  result, game_states, targets, iteration = play_logic_bot(board, 9, 9)\n",
        "  easy_game_states.extend(game_states)\n",
        "  easy_targets.extend(targets)\n",
        "\n",
        "easy_game_states_tensor = torch.stack(easy_game_states)\n",
        "easy_targets_tensor = torch.stack(easy_targets)\n",
        "\n",
        "easy_dataset = TensorDataset(easy_game_states_tensor, easy_targets_tensor)\n",
        "easy_train_loader = DataLoader(easy_dataset, batch_size=64, shuffle=True)\n",
        "\n",
        "#intermediate board data\n",
        "med_game_states = []\n",
        "med_targets = []\n",
        "for _ in range(100):\n",
        "  board = make_board(16, 16, 40)\n",
        "  result, game_states, targets, iteration = play_logic_bot(board, 16, 16)\n",
        "  med_game_states.extend(game_states)\n",
        "  med_targets.extend(targets)\n",
        "\n",
        "med_game_states_tensor = torch.stack(med_game_states)\n",
        "med_targets_tensor = torch.stack(med_targets)\n",
        "\n",
        "med_dataset = TensorDataset(med_game_states_tensor, med_targets_tensor)\n",
        "med_train_loader = DataLoader(med_dataset, batch_size=64, shuffle=True)\n",
        "\n",
        "#expert board data\n",
        "hard_game_states = []\n",
        "hard_targets = []\n",
        "for _ in range(100):\n",
        "  board = make_board(30, 16, 99)\n",
        "  result, game_states, targets, iteration = play_logic_bot(board, 30, 16)\n",
        "  hard_game_states.extend(game_states)\n",
        "  hard_targets.extend(targets)\n",
        "\n",
        "hard_game_states_tensor = torch.stack(hard_game_states)\n",
        "hard_targets_tensor = torch.stack(hard_targets)\n",
        "\n",
        "hard_dataset = TensorDataset(hard_game_states_tensor, hard_targets_tensor)\n",
        "hard_train_loader = DataLoader(hard_dataset, batch_size=64, shuffle=True)"
      ],
      "metadata": {
        "id": "moXy_4mAyaA5"
      },
      "execution_count": null,
      "outputs": []
    },
    {
      "cell_type": "markdown",
      "source": [
        "Now that I have saved the data for each difficulty level into data loaders, I can build the model. I use a 2-dimensional CNN model that has 3 CNN layers and 3 batch norm layers. Inputs for the model are game states, meaning that they are game boards that have a subset of cells revealed. The output will be what the predicted \"true\" board is in terms of probabilities for each cell on whether it is a mine or not.\n",
        "\n",
        "The architecture of the CNN model I developed starts with an embedding layer that maps the input board due to the fact that each cell has 11 possible states, so the embedding matrix should have 11 representational vectors that can be learned. The model also has 3 2d convolutional layers, which will apply spatial filters to extract the relevant features from the board. Each convolutional layer is followed by batch normalization, which helps to stabilize the training process. I wanted to build a network that could be applicable to the easy, intermediate, and expert level boards in terms of size, so I also added an adaptive average pooling layer.\n",
        "\n"
      ],
      "metadata": {
        "id": "zrEWsohMedWO"
      }
    },
    {
      "cell_type": "code",
      "source": [
        "class CNNModel(nn.Module):\n",
        "    def __init__(self, height, width):\n",
        "      super(CNNModel, self).__init__()\n",
        "\n",
        "      self.height = height\n",
        "      self.width = width\n",
        "\n",
        "      self.embedding = nn.Embedding(11, 10)\n",
        "\n",
        "      self.conv1 = nn.Conv2d(10, 16, kernel_size=3, padding=1)\n",
        "      self.batch1 = nn.BatchNorm2d(16)\n",
        "      self.conv2 = nn.Conv2d(16, 32, kernel_size=3, padding=1)\n",
        "      self.batch2 = nn.BatchNorm2d(32)\n",
        "      self.conv3 = nn.Conv2d(32, 64, kernel_size=3, padding=1)\n",
        "      self.batch3 = nn.BatchNorm2d(64)\n",
        "\n",
        "      self.adaptive_pool = nn.AdaptiveAvgPool2d((4, 4))   #to account for varying minesweeper board sizes\n",
        "\n",
        "      self.output_layer = nn.Linear(64 * 4 * 4, height * width)\n",
        "\n",
        "    def forward(self, input_tensor):\n",
        "\n",
        "      input_tensor = input_tensor.long()\n",
        "      input_tensor = input_tensor + 2\n",
        "\n",
        "      #print(input_tensor)\n",
        "\n",
        "      output = self.embedding(input_tensor)\n",
        "\n",
        "      if len(output.size()) != 4:\n",
        "        output.unsqueeze(0).permute(0,3,1,2)\n",
        "        #output.unsqueeze(0)\n",
        "      else:\n",
        "        output = output.permute(0, 3, 1, 2)\n",
        "\n",
        "      #print(output.size())\n",
        "\n",
        "      output = self.conv1(output)\n",
        "      output = self.batch1(output)\n",
        "      output = self.conv2(output)\n",
        "      output = self.batch2(output)\n",
        "      output = self.conv3(output)\n",
        "      output = self.batch3(output)\n",
        "\n",
        "      output = self.adaptive_pool(output)\n",
        "\n",
        "      output = output.reshape(output.size(0), -1) #have to do some sort of reshaping after batch\n",
        "      output = self.output_layer(output)\n",
        "      output = torch.nn.functional.softmax(output, dim=1) #maybe do (dim=1)(output)\n",
        "      return output\n",
        "\n",
        "def train_easy_games(train_loader, model, num_epochs=10):\n",
        "  loss_fn = nn.MSELoss()\n",
        "  optimizer = optim.Adam(model.parameters(), lr=0.001)\n",
        "\n",
        "  train_loss = []\n",
        "\n",
        "  for epoch in range(num_epochs):\n",
        "    total_loss = 0\n",
        "\n",
        "    for game_states, targets in train_loader:\n",
        "      optimizer.zero_grad()\n",
        "      outputs = model(game_states)\n",
        "\n",
        "      # outputs.unsqueeze(0)\n",
        "      # print(outputs.size())\n",
        "      # print(\"outputs\", outputs)\n",
        "\n",
        "      # print(targets.size())\n",
        "      # print(targets)\n",
        "\n",
        "      targets = targets.view(targets.size(0), -1)\n",
        "\n",
        "      loss = loss_fn(outputs, targets.float())  #may have to change this\n",
        "\n",
        "      loss.backward()\n",
        "      optimizer.step()\n",
        "\n",
        "      total_loss += loss.item()\n",
        "      train_loss.append(loss)\n",
        "\n",
        "    print(\"loss at epoch\", train_loss[-1])\n",
        "\n",
        "\n"
      ],
      "metadata": {
        "id": "7kPmKxayfNxV"
      },
      "execution_count": null,
      "outputs": []
    },
    {
      "cell_type": "markdown",
      "source": [
        "Below I am training the models for easy, intermediate, and expert levels."
      ],
      "metadata": {
        "id": "pLz0pTW38EY8"
      }
    },
    {
      "cell_type": "code",
      "source": [
        "easy_height = 9\n",
        "easy_width = 9\n",
        "easy_model = CNNModel(easy_height, easy_width)\n",
        "train_easy_games(easy_train_loader, easy_model, num_epochs=10)"
      ],
      "metadata": {
        "colab": {
          "base_uri": "https://localhost:8080/"
        },
        "id": "URdyaBRG8yf4",
        "outputId": "1c3f1b31-6a4b-4ad1-d8b5-3f02ba4fb318"
      },
      "execution_count": null,
      "outputs": [
        {
          "output_type": "stream",
          "name": "stdout",
          "text": [
            "loss at epoch tensor(1.6778, grad_fn=<MseLossBackward0>)\n",
            "loss at epoch tensor(1.6562, grad_fn=<MseLossBackward0>)\n",
            "loss at epoch tensor(1.6655, grad_fn=<MseLossBackward0>)\n",
            "loss at epoch tensor(1.6763, grad_fn=<MseLossBackward0>)\n",
            "loss at epoch tensor(1.6663, grad_fn=<MseLossBackward0>)\n",
            "loss at epoch tensor(1.6565, grad_fn=<MseLossBackward0>)\n",
            "loss at epoch tensor(1.6676, grad_fn=<MseLossBackward0>)\n",
            "loss at epoch tensor(1.6293, grad_fn=<MseLossBackward0>)\n",
            "loss at epoch tensor(1.6490, grad_fn=<MseLossBackward0>)\n",
            "loss at epoch tensor(1.6784, grad_fn=<MseLossBackward0>)\n"
          ]
        }
      ]
    },
    {
      "cell_type": "code",
      "source": [
        "med_height = 16\n",
        "med_width = 16\n",
        "med_model = CNNModel(med_height, med_width)\n",
        "train_easy_games(med_train_loader, med_model, num_epochs=10)"
      ],
      "metadata": {
        "colab": {
          "base_uri": "https://localhost:8080/"
        },
        "id": "k6KYww6x7viO",
        "outputId": "c28493e4-12d7-4325-c7f6-681c8db38656"
      },
      "execution_count": null,
      "outputs": [
        {
          "output_type": "stream",
          "name": "stdout",
          "text": [
            "loss at epoch tensor(2.4842, grad_fn=<MseLossBackward0>)\n",
            "loss at epoch tensor(2.5083, grad_fn=<MseLossBackward0>)\n",
            "loss at epoch tensor(2.5621, grad_fn=<MseLossBackward0>)\n",
            "loss at epoch tensor(2.5102, grad_fn=<MseLossBackward0>)\n",
            "loss at epoch tensor(2.5603, grad_fn=<MseLossBackward0>)\n",
            "loss at epoch tensor(2.4787, grad_fn=<MseLossBackward0>)\n",
            "loss at epoch tensor(2.5473, grad_fn=<MseLossBackward0>)\n",
            "loss at epoch tensor(2.5527, grad_fn=<MseLossBackward0>)\n",
            "loss at epoch tensor(2.5167, grad_fn=<MseLossBackward0>)\n",
            "loss at epoch tensor(2.5072, grad_fn=<MseLossBackward0>)\n"
          ]
        }
      ]
    },
    {
      "cell_type": "code",
      "source": [
        "hard_height = 30\n",
        "hard_width = 16\n",
        "hard_model = CNNModel(hard_height, hard_width)\n",
        "train_easy_games(hard_train_loader, hard_model, num_epochs=10)"
      ],
      "metadata": {
        "colab": {
          "base_uri": "https://localhost:8080/"
        },
        "id": "FZQACGQZ8Mcj",
        "outputId": "7b386051-63ec-4abf-b7a0-2087f9137814"
      },
      "execution_count": null,
      "outputs": [
        {
          "output_type": "stream",
          "name": "stdout",
          "text": [
            "loss at epoch tensor(3.6750, grad_fn=<MseLossBackward0>)\n",
            "loss at epoch tensor(3.6640, grad_fn=<MseLossBackward0>)\n",
            "loss at epoch tensor(3.6782, grad_fn=<MseLossBackward0>)\n",
            "loss at epoch tensor(3.7035, grad_fn=<MseLossBackward0>)\n",
            "loss at epoch tensor(3.6806, grad_fn=<MseLossBackward0>)\n",
            "loss at epoch tensor(3.6704, grad_fn=<MseLossBackward0>)\n",
            "loss at epoch tensor(3.6717, grad_fn=<MseLossBackward0>)\n",
            "loss at epoch tensor(3.6929, grad_fn=<MseLossBackward0>)\n",
            "loss at epoch tensor(3.6872, grad_fn=<MseLossBackward0>)\n",
            "loss at epoch tensor(3.6642, grad_fn=<MseLossBackward0>)\n"
          ]
        }
      ]
    },
    {
      "cell_type": "markdown",
      "source": [
        "The code below is for the network bot playing the game. The game is played as follows: We have an initial playing board that has all cells unclicked. The agent will first choose a random cell from the board to unclick at the start of the game. Then, we see if the cell is a mine or not. If it is a mine, then the game ends. If it is not a mine, then the playing board is updated with the clue value of the cell. For following iterations, the trained CNN model will output the probabilities that each cell is a mine, with the highest probabilities meaning that the cell is more likely to be a mine and the lowest probabilities meaning that the cell is more likely to be safe. From there, the agent looks at the probabilities of the remaining cells of our playing board and chooses the cell with the lowest probability to click on. We also keep track of how many cells are clicked and check that with the total amount of safe cells in the board, so that if those two values are equal, then the agent has won the game and cleared the board."
      ],
      "metadata": {
        "id": "eGOYMMHATk7Z"
      }
    },
    {
      "cell_type": "code",
      "source": [
        "def network_bot_play(model, board, height, width):\n",
        "  playing_board = init_game_board(height, width)\n",
        "  playing_board = playing_board.unsqueeze(0)\n",
        "  cells_remaining = set((x, y) for x in range(height) for y in range(width))\n",
        "  cells_clicked = 0\n",
        "  num_nonmine_cells = 1 - np.count_nonzero(board)\n",
        "\n",
        "\n",
        "  steps = 1\n",
        "\n",
        "  game_won = True\n",
        "\n",
        "  while 1:\n",
        "    if steps == 0:\n",
        "      cell = random.choice(list(cells_remaining))\n",
        "      x, y = cell\n",
        "    else:\n",
        "      probs = model(playing_board)\n",
        "      probs_matrix = probs.view(height, width)\n",
        "\n",
        "      #get prediction and cell based on prediction- do this by getting tuple w lowest prob in cells_remaining\n",
        "      probs_np = probs_matrix.detach().numpy()\n",
        "      #print(probs_np)\n",
        "\n",
        "      min_value = np.inf\n",
        "      min_coords = None\n",
        "\n",
        "      for coords in cells_remaining:\n",
        "        x, y = coords\n",
        "        value = probs_np[x, y]\n",
        "\n",
        "        if value < min_value:\n",
        "          min_value = value\n",
        "          min_coords = coords\n",
        "\n",
        "      x,y = min_coords\n",
        "      #print((x,y))\n",
        "\n",
        "    cells_remaining.remove((x,y))\n",
        "    cells_clicked += 1\n",
        "\n",
        "\n",
        "    #update playing board\n",
        "    if board[x][y] == -2:   #clicked cell is mine\n",
        "      game_won = False\n",
        "      break\n",
        "\n",
        "    playing_board[0, x, y] = board[x][y]   #clicked cell is not mine- update board\n",
        "\n",
        "    #see if all safe cells have been clicked- if so- game won!\n",
        "    if cells_clicked == num_nonmine_cells:\n",
        "      break\n",
        "\n",
        "    steps += 1\n",
        "\n",
        "  return game_won, steps\n"
      ],
      "metadata": {
        "id": "jU2gx3ZQTkCc"
      },
      "execution_count": null,
      "outputs": []
    },
    {
      "cell_type": "code",
      "source": [
        "test_board = make_board(9, 9, 10)\n",
        "network_bot_play(easy_model, test_board, 9, 9)"
      ],
      "metadata": {
        "colab": {
          "base_uri": "https://localhost:8080/"
        },
        "id": "oJd067c1yL6H",
        "outputId": "eca97a7b-c3fe-4a3a-bca4-258b7a26ef86"
      },
      "execution_count": null,
      "outputs": [
        {
          "output_type": "execute_result",
          "data": {
            "text/plain": [
              "(False, 2)"
            ]
          },
          "metadata": {},
          "execution_count": 25
        }
      ]
    },
    {
      "cell_type": "markdown",
      "source": [
        "##Easy Boards: Logic Bot vs. Network Bot"
      ],
      "metadata": {
        "id": "c28l1yKDRKGh"
      }
    },
    {
      "cell_type": "markdown",
      "source": [
        "I will now compare the performances of the logic bot and the network bot on easy boards. I will do this by having both bots play the same set of 100 boards and gather results. I will gather the number of games both bots won and the amount of steps both bots took before they reached a mine or reached the end of the game."
      ],
      "metadata": {
        "id": "qIzAcWvwRPMH"
      }
    },
    {
      "cell_type": "code",
      "source": [
        "test_easy_boards = []\n",
        "for _ in range(100):\n",
        "  board = make_board(9,9,10)\n",
        "  test_easy_boards.append(board)\n",
        "\n",
        "logic_games_won = 0\n",
        "logic_steps = 0\n",
        "\n",
        "nn_games_won = 0\n",
        "nn_steps = 0\n",
        "\n",
        "for board in test_easy_boards:\n",
        "  logic_game_won, _, _, logic_step = play_logic_bot(board, 9, 9)\n",
        "  nn_game_won, nn_step = network_bot_play(easy_model, board, 9, 9)\n",
        "\n",
        "  if logic_game_won:\n",
        "    logic_games_won += 1\n",
        "  if nn_game_won:\n",
        "    nn_games_won += 1\n",
        "\n",
        "  logic_steps += logic_step\n",
        "  nn_steps += nn_step\n",
        "\n",
        "print(\"logic bot games won: \", logic_games_won)\n",
        "print(\"logic bot avg survived steps: \", logic_steps/100)\n",
        "\n",
        "print(\"CNN bot games won: \", nn_games_won)\n",
        "print(\"CNN bot avg survived steps: \", nn_steps/100)\n",
        "\n",
        "\n"
      ],
      "metadata": {
        "id": "1WYKBdZaRF1I",
        "colab": {
          "base_uri": "https://localhost:8080/"
        },
        "outputId": "b9dfa09d-a5a4-4141-f17c-113bc05ad0a1"
      },
      "execution_count": null,
      "outputs": [
        {
          "output_type": "stream",
          "name": "stdout",
          "text": [
            "logic bot games won:  9\n",
            "logic bot avg survived steps:  15.12\n",
            "CNN bot games won:  0\n",
            "CNN bot avg survived steps:  6.66\n"
          ]
        }
      ]
    },
    {
      "cell_type": "markdown",
      "source": [
        "Now I will compare the performances of the logic bot and network bot on intermediate boards."
      ],
      "metadata": {
        "id": "bsrQsPNEDnIQ"
      }
    },
    {
      "cell_type": "code",
      "source": [
        "test_med_boards = []\n",
        "for _ in range(100):\n",
        "  board = make_board(16,16,40)\n",
        "  test_med_boards.append(board)\n",
        "\n",
        "logic_games_won = 0\n",
        "logic_steps = 0\n",
        "\n",
        "nn_games_won = 0\n",
        "nn_steps = 0\n",
        "\n",
        "for board in test_med_boards:\n",
        "  logic_game_won, _, _, logic_step = play_logic_bot(board, 16, 16)\n",
        "  nn_game_won, nn_step = network_bot_play(med_model, board, 16, 16)\n",
        "\n",
        "  if logic_game_won:\n",
        "    logic_games_won += 1\n",
        "  if nn_game_won:\n",
        "    nn_games_won += 1\n",
        "\n",
        "  logic_steps += logic_step\n",
        "  nn_steps += nn_step\n",
        "\n",
        "print(\"logic bot games won: \", logic_games_won)\n",
        "print(\"logic bot avg survived steps: \", logic_steps/100)\n",
        "\n",
        "print(\"CNN bot games won: \", nn_games_won)\n",
        "print(\"CNN bot avg survived steps: \", nn_steps/100)"
      ],
      "metadata": {
        "colab": {
          "base_uri": "https://localhost:8080/"
        },
        "id": "M2dufBMLDmMX",
        "outputId": "f9d02209-41a4-4d32-d0fa-f96b904a473d"
      },
      "execution_count": null,
      "outputs": [
        {
          "output_type": "stream",
          "name": "stdout",
          "text": [
            "logic bot games won:  0\n",
            "logic bot avg survived steps:  13.56\n",
            "CNN bot games won:  0\n",
            "CNN bot avg survived steps:  6.89\n"
          ]
        }
      ]
    },
    {
      "cell_type": "markdown",
      "source": [
        "Now I will compare the performances of the logic bot and network bot on expert boards."
      ],
      "metadata": {
        "id": "6dCAf3mXD57L"
      }
    },
    {
      "cell_type": "code",
      "source": [
        "test_hard_boards = []\n",
        "for _ in range(100):\n",
        "  board = make_board(30,16,99)\n",
        "  test_hard_boards.append(board)\n",
        "\n",
        "logic_games_won = 0\n",
        "logic_steps = 0\n",
        "\n",
        "nn_games_won = 0\n",
        "nn_steps = 0\n",
        "\n",
        "for board in test_hard_boards:\n",
        "  logic_game_won, _, _, logic_step = play_logic_bot(board, 30, 16)\n",
        "  nn_game_won, nn_step = network_bot_play(hard_model, board, 30, 16)\n",
        "\n",
        "  if logic_game_won:\n",
        "    logic_games_won += 1\n",
        "  if nn_game_won:\n",
        "    nn_games_won += 1\n",
        "\n",
        "  logic_steps += logic_step\n",
        "  nn_steps += nn_step\n",
        "\n",
        "print(\"logic bot games won: \", logic_games_won)\n",
        "print(\"logic bot avg survived steps: \", logic_steps/100)\n",
        "\n",
        "print(\"CNN bot games won: \", nn_games_won)\n",
        "print(\"CNN bot avg survived steps: \", nn_steps/100)"
      ],
      "metadata": {
        "colab": {
          "base_uri": "https://localhost:8080/"
        },
        "id": "v2UchPQOECwn",
        "outputId": "47cbb1b1-59f8-45f4-d6cf-c129342645e6"
      },
      "execution_count": null,
      "outputs": [
        {
          "output_type": "stream",
          "name": "stdout",
          "text": [
            "logic bot games won:  0\n",
            "logic bot avg survived steps:  8.97\n",
            "CNN bot games won:  0\n",
            "CNN bot avg survived steps:  5.29\n"
          ]
        }
      ]
    },
    {
      "cell_type": "markdown",
      "source": [
        "\n",
        "\n",
        "#Task 1 Analysis\n",
        "\n",
        "As you can see from the results above, the model did not have good losses when trained on the data for easy, intermediate, and expert level boards. I believe this has to do with my training data generation. I think that because the logic bot that I created based on the pseudocode given in the writeup was not able to win many games (usually 8/9 games won on easy boards out of 100 games), the models were not able to perform well either. For each board level training, the loss stayed generally the same. For comparing the performance of the logic bot with the network, I used number of games won and average steps taken before hitting a mine. Both of my bots did not continue playing the game after a they hit a mine, so I did not use average number of mines hit before game ends as a metric. As you can see above, the logic bot performs better than my network bot in all difficulty levels, but are closer in performance for the expert board."
      ],
      "metadata": {
        "id": "6YH1tv_eCqYm"
      }
    },
    {
      "cell_type": "markdown",
      "source": [
        "#TASK 2"
      ],
      "metadata": {
        "id": "O2a3KPxDFiIp"
      }
    },
    {
      "cell_type": "markdown",
      "source": [
        "In task 2, I have to get the model to have good results on boards of size 30x30 where the number of mines ranges from 0% to 30% of the board. From task 1, a few things have to change to adjust to these parameters. The biggest change to adjust to variable mines is to have the model be trained on data where we have boards of size 30x30 with variable numbers of mines. Previously, the models were trained separately for easy, intermediate, and expert boards where each type of board had a set number of mines and each model was only fit for its corresponding difficulty. Now, I will generate data for 30x30 boards that have 0% to 30% of the board covered in mines and I will train a model on that data. I will then compare the performance of the trained model and the logic bot on 100 boards and compare."
      ],
      "metadata": {
        "id": "MUSy8Vo8SSUw"
      }
    },
    {
      "cell_type": "code",
      "source": [
        "mine_height = 30\n",
        "mine_width = 30\n",
        "mine_game_states = []\n",
        "mine_targets = []\n",
        "for _ in range(100):\n",
        "  num_mines = random.randint(0, 270)\n",
        "  board = make_board(mine_height, mine_width, num_mines)\n",
        "  result, game_states, targets, iteration = play_logic_bot(board, mine_height, mine_width)\n",
        "  mine_game_states.extend(game_states)\n",
        "  mine_targets.extend(targets)\n",
        "\n",
        "mine_game_states_tensor = torch.stack(mine_game_states)\n",
        "mine_targets_tensor = torch.stack(mine_targets)\n",
        "\n",
        "mine_dataset = TensorDataset(mine_game_states_tensor, mine_targets_tensor)\n",
        "mine_train_loader = DataLoader(mine_dataset, batch_size=64, shuffle=True)"
      ],
      "metadata": {
        "id": "ZRd7Fb04AuAm"
      },
      "execution_count": null,
      "outputs": []
    },
    {
      "cell_type": "markdown",
      "source": [
        "Here, I will adjust the current model architecture to perform better on boards with varying mines. I did not change the model too much, I just added another convolutional layer to have an extra layer and more indepth processing.\n",
        "\n",
        "\n"
      ],
      "metadata": {
        "id": "FO01lR-EFvwZ"
      }
    },
    {
      "cell_type": "code",
      "source": [
        "class MineCNNModel(nn.Module):\n",
        "    def __init__(self, height, width):\n",
        "      super(MineCNNModel, self).__init__()\n",
        "\n",
        "      self.height = height\n",
        "      self.width = width\n",
        "\n",
        "      self.embedding = nn.Embedding(11, 10)\n",
        "\n",
        "      self.conv1 = nn.Conv2d(10, 16, kernel_size=3, padding=1)\n",
        "      self.batch1 = nn.BatchNorm2d(16)\n",
        "      self.conv2 = nn.Conv2d(16, 32, kernel_size=3, padding=1)\n",
        "      self.batch2 = nn.BatchNorm2d(32)\n",
        "      self.conv3 = nn.Conv2d(32, 64, kernel_size=3, padding=1)\n",
        "      self.batch3 = nn.BatchNorm2d(64)\n",
        "      self.conv4 = nn.Conv2d(64, 128, kernel_size=3, padding=1)\n",
        "      self.batch4 = nn.BatchNorm2d(128)\n",
        "\n",
        "      self.adaptive_pool = nn.AdaptiveAvgPool2d((4, 4))   #to account for varying minesweeper board sizes\n",
        "\n",
        "      self.output_layer = nn.Linear(128 * 4 * 4, height * width)\n",
        "\n",
        "    def forward(self, input_tensor):\n",
        "\n",
        "      input_tensor = input_tensor.long()\n",
        "      input_tensor = input_tensor + 2\n",
        "\n",
        "      #print(input_tensor)\n",
        "\n",
        "      output = self.embedding(input_tensor)\n",
        "\n",
        "      if len(output.size()) != 4:\n",
        "        output.unsqueeze(0).permute(0,3,1,2)\n",
        "        #output.unsqueeze(0)\n",
        "      else:\n",
        "        output = output.permute(0, 3, 1, 2)\n",
        "\n",
        "      #print(output.size())\n",
        "\n",
        "      output = self.conv1(output)\n",
        "      output = self.batch1(output)\n",
        "      output = self.conv2(output)\n",
        "      output = self.batch2(output)\n",
        "      output = self.conv3(output)\n",
        "      output = self.batch3(output)\n",
        "      output = self.conv4(output)\n",
        "      output = self.batch4(output)\n",
        "\n",
        "      output = self.adaptive_pool(output)\n",
        "\n",
        "      output = output.reshape(output.size(0), -1) #have to do some sort of reshaping after batch\n",
        "      output = self.output_layer(output)\n",
        "      output = torch.nn.functional.softmax(output, dim=1) #maybe do (dim=1)(output)\n",
        "      return output\n",
        "\n",
        "def train_mine_games(train_loader, model, num_epochs=10):\n",
        "  loss_fn = nn.MSELoss()\n",
        "  optimizer = optim.Adam(model.parameters(), lr=0.001)\n",
        "\n",
        "  train_loss = []\n",
        "\n",
        "  for epoch in range(num_epochs):\n",
        "    total_loss = 0\n",
        "\n",
        "    for game_states, targets in train_loader:\n",
        "      optimizer.zero_grad()\n",
        "      outputs = model(game_states)\n",
        "\n",
        "      # outputs.unsqueeze(0)\n",
        "      # print(outputs.size())\n",
        "      # print(\"outputs\", outputs)\n",
        "\n",
        "      # print(targets.size())\n",
        "      # print(targets)\n",
        "\n",
        "      targets = targets.view(targets.size(0), -1)\n",
        "\n",
        "      loss = loss_fn(outputs, targets.float())  #may have to change this\n",
        "\n",
        "      loss.backward()\n",
        "      optimizer.step()\n",
        "\n",
        "      total_loss += loss.item()\n",
        "      train_loss.append(loss)\n",
        "\n",
        "    print(\"loss at epoch\", train_loss[-1])"
      ],
      "metadata": {
        "id": "dDS3P2HbFtKx"
      },
      "execution_count": null,
      "outputs": []
    },
    {
      "cell_type": "code",
      "source": [
        "mine_model = MineCNNModel(mine_height, mine_width)\n",
        "train_mine_games(mine_train_loader, mine_model, num_epochs=10)"
      ],
      "metadata": {
        "colab": {
          "base_uri": "https://localhost:8080/"
        },
        "id": "vNsjQ1pjG9nI",
        "outputId": "7478456d-3104-40e5-b99e-b5531b295c24"
      },
      "execution_count": null,
      "outputs": [
        {
          "output_type": "stream",
          "name": "stdout",
          "text": [
            "loss at epoch tensor(0.7591, grad_fn=<MseLossBackward0>)\n",
            "loss at epoch tensor(0.7389, grad_fn=<MseLossBackward0>)\n",
            "loss at epoch tensor(0.6996, grad_fn=<MseLossBackward0>)\n",
            "loss at epoch tensor(0.9108, grad_fn=<MseLossBackward0>)\n",
            "loss at epoch tensor(0.8296, grad_fn=<MseLossBackward0>)\n",
            "loss at epoch tensor(0.8681, grad_fn=<MseLossBackward0>)\n",
            "loss at epoch tensor(1.2683, grad_fn=<MseLossBackward0>)\n",
            "loss at epoch tensor(0.9698, grad_fn=<MseLossBackward0>)\n",
            "loss at epoch tensor(0.9768, grad_fn=<MseLossBackward0>)\n",
            "loss at epoch tensor(0.7451, grad_fn=<MseLossBackward0>)\n"
          ]
        }
      ]
    },
    {
      "cell_type": "markdown",
      "source": [
        "Now that the model is trained, I will compare the performance of the logic bot and the trained network bot."
      ],
      "metadata": {
        "id": "M-DNRR6IJieI"
      }
    },
    {
      "cell_type": "code",
      "source": [
        "#DICTS FOR PLOTTING\n",
        "logic_won_dict = {}\n",
        "nn_won_dict = {}\n",
        "\n",
        "logic_steps_dict = {}\n",
        "nn_steps_dict = {}\n",
        "\n",
        "mine_height = 30\n",
        "mine_width = 30\n",
        "\n",
        "test_mine_boards = []\n",
        "for _ in range(100):\n",
        "  num_mines = random.randint(0, 270)\n",
        "  board = make_board(mine_height, mine_width, num_mines)\n",
        "  test_mine_boards.append((board, num_mines))\n",
        "\n",
        "logic_games_won = 0\n",
        "logic_steps = 0\n",
        "\n",
        "nn_games_won = 0\n",
        "nn_steps = 0\n",
        "\n",
        "for board, num_mines in test_mine_boards:\n",
        "  logic_game_won, _, _, logic_step = play_logic_bot(board, mine_height, mine_width)\n",
        "  nn_game_won, nn_step = network_bot_play(mine_model, board, mine_height, mine_width)\n",
        "\n",
        "  #saves the amount of logic games won for each amt of mines in the board\n",
        "  if logic_game_won:\n",
        "    logic_games_won += 1\n",
        "    if num_mines not in logic_won_dict:\n",
        "      logic_won_dict[num_mines] = logic_games_won\n",
        "    else:\n",
        "      logic_won_dict[num_mines] += 1\n",
        "  else:\n",
        "    if num_mines not in logic_won_dict:\n",
        "      logic_won_dict[num_mines] = 0\n",
        "\n",
        "  #saves the amount of nn games won for each amt of mines in the board\n",
        "  if nn_game_won:\n",
        "    nn_games_won += 1\n",
        "    if num_mines not in nn_won_dict:\n",
        "      nn_won_dict[num_mines] = nn_games_won\n",
        "    else:\n",
        "      nn_won_dict[num_mines] += 1\n",
        "  else:\n",
        "    if num_mines not in nn_won_dict:\n",
        "      nn_won_dict[num_mines] = 0\n",
        "\n",
        "  #saves the amount of steps the logic bot takes for each amt of mines in the board\n",
        "  logic_steps += logic_step\n",
        "  if num_mines not in logic_steps_dict:\n",
        "    logic_steps_dict[num_mines] = [logic_steps]\n",
        "  else:\n",
        "    logic_steps_dict[num_mines].append(logic_step)\n",
        "\n",
        "  #saves the amount of steps the nn bot takes for each amt of mines in the board\n",
        "  nn_steps += nn_step\n",
        "  if num_mines not in nn_steps_dict:\n",
        "    nn_steps_dict[num_mines] = [nn_steps]\n",
        "  else:\n",
        "    nn_steps_dict[num_mines].append(nn_step)\n",
        "\n",
        "\n",
        "print(\"logic bot games won: \", logic_games_won)\n",
        "print(\"logic bot avg survived steps: \", logic_steps/100)\n",
        "print(\"logic wins dict: \", logic_won_dict)\n",
        "print(\"logic steps dict: \", logic_steps_dict)\n",
        "\n",
        "print(\"CNN bot games won: \", nn_games_won)\n",
        "print(\"CNN bot avg survived steps: \", nn_steps/100)\n",
        "print(\"CNN bot wins dict: \", nn_won_dict)\n",
        "print(\"CNN bot steps dict: \", nn_steps_dict)"
      ],
      "metadata": {
        "colab": {
          "base_uri": "https://localhost:8080/"
        },
        "id": "XHx3pT-fJh5L",
        "outputId": "aaad38b1-9e59-4469-848c-83baacd17315"
      },
      "execution_count": null,
      "outputs": [
        {
          "output_type": "stream",
          "name": "stdout",
          "text": [
            "logic bot games won:  2\n",
            "logic bot avg survived steps:  77.37\n",
            "logic wins dict:  {182: 0, 60: 0, 179: 0, 49: 0, 84: 0, 173: 0, 95: 0, 154: 0, 24: 0, 96: 0, 175: 0, 91: 0, 17: 0, 40: 0, 120: 0, 178: 0, 76: 0, 36: 0, 138: 0, 142: 0, 129: 0, 206: 0, 209: 0, 20: 0, 10: 0, 257: 0, 41: 0, 90: 0, 188: 0, 111: 0, 21: 0, 130: 0, 181: 0, 165: 0, 87: 0, 210: 0, 191: 0, 65: 0, 135: 0, 215: 0, 159: 0, 106: 0, 186: 0, 16: 0, 70: 0, 94: 0, 234: 0, 0: 1, 237: 0, 225: 0, 174: 0, 131: 0, 33: 0, 143: 0, 19: 0, 119: 0, 98: 0, 100: 0, 228: 0, 196: 0, 15: 0, 180: 0, 169: 0, 56: 0, 168: 0, 1: 2, 260: 0, 81: 0, 252: 0, 58: 0, 46: 0, 66: 0, 199: 0, 194: 0, 50: 0, 163: 0, 202: 0, 147: 0, 193: 0, 259: 0, 104: 0, 242: 0, 2: 0, 152: 0, 92: 0, 170: 0}\n",
            "logic steps dict:  {182: [4, 2], 60: [93, 13], 179: [96], 49: [113], 84: [120], 173: [124], 95: [132, 13], 154: [137], 24: [322, 54], 96: [355], 175: [369], 91: [370], 17: [556], 40: [579], 120: [583], 178: [589], 76: [599, 20], 36: [695], 138: [703], 142: [712], 129: [724], 206: [727], 209: [755], 20: [910], 10: [1227, 435, 523], 257: [1237, 2], 41: [1453, 1], 90: [1476], 188: [1479], 111: [1528], 21: [1725], 130: [1726], 181: [1727], 165: [1732], 87: [1753], 210: [1754], 191: [1767], 65: [1790], 135: [1797], 215: [1800, 3], 159: [1835], 106: [1881, 2], 186: [1894], 16: [2437], 70: [2453], 94: [2485], 234: [2503], 0: [3579], 237: [3580], 225: [3582], 174: [3584], 131: [3599], 33: [3837], 143: [3838], 19: [3953, 566], 119: [3957], 98: [3962], 100: [3973], 228: [3992, 15], 196: [3994], 15: [4236], 180: [4239], 169: [4243], 56: [4317], 168: [4323], 1: [5316], 260: [5325], 81: [5850, 86], 252: [5875], 58: [5998], 46: [6045], 66: [6129], 199: [6131], 194: [6132], 50: [6234], 163: [6235], 202: [6236], 147: [6265], 193: [6271], 259: [6282], 104: [6392], 242: [6454], 2: [7107], 152: [7135], 92: [7726], 170: [7737]}\n",
            "CNN bot games won:  1\n",
            "CNN bot avg survived steps:  33.24\n",
            "CNN bot wins dict:  {182: 0, 60: 0, 179: 0, 49: 0, 84: 0, 173: 0, 95: 0, 154: 0, 24: 0, 96: 0, 175: 0, 91: 0, 17: 0, 40: 0, 120: 0, 178: 0, 76: 0, 36: 0, 138: 0, 142: 0, 129: 0, 206: 0, 209: 0, 20: 0, 10: 0, 257: 0, 41: 0, 90: 0, 188: 0, 111: 0, 21: 0, 130: 0, 181: 0, 165: 0, 87: 0, 210: 0, 191: 0, 65: 0, 135: 0, 215: 0, 159: 0, 106: 0, 186: 0, 16: 0, 70: 0, 94: 0, 234: 0, 0: 1, 237: 0, 225: 0, 174: 0, 131: 0, 33: 0, 143: 0, 19: 0, 119: 0, 98: 0, 100: 0, 228: 0, 196: 0, 15: 0, 180: 0, 169: 0, 56: 0, 168: 0, 1: 0, 260: 0, 81: 0, 252: 0, 58: 0, 46: 0, 66: 0, 199: 0, 194: 0, 50: 0, 163: 0, 202: 0, 147: 0, 193: 0, 259: 0, 104: 0, 242: 0, 2: 0, 152: 0, 92: 0, 170: 0}\n",
            "CNN bot steps dict:  {182: [1, 4], 60: [6, 27], 179: [7], 49: [20], 84: [27], 173: [28], 95: [48, 7], 154: [54], 24: [125, 57], 96: [128], 175: [138], 91: [141], 17: [224], 40: [241], 120: [246], 178: [251], 76: [254, 37], 36: [291], 138: [299], 142: [304], 129: [313], 206: [321], 209: [325], 20: [481], 10: [508, 180, 56], 257: [513, 4], 41: [542, 17], 90: [556], 188: [562], 111: [563], 21: [600], 130: [601], 181: [603], 165: [628], 87: [645], 210: [646], 191: [647], 65: [664], 135: [685], 215: [687, 9], 159: [697], 106: [734, 4], 186: [737], 16: [944], 70: [955], 94: [966], 234: [967], 0: [968], 237: [969], 225: [975], 174: [982], 131: [994], 33: [1031], 143: [1038], 19: [1063, 26], 119: [1065], 98: [1077], 100: [1091], 228: [1093, 1], 196: [1101], 15: [1319], 180: [1327], 169: [1340], 56: [1374], 168: [1375], 1: [2181], 260: [2189], 81: [2275, 28], 252: [2313], 58: [2333], 46: [2338], 66: [2364], 199: [2366], 194: [2368], 50: [2376], 163: [2383], 202: [2386], 147: [2395], 193: [2399], 259: [2403], 104: [2432], 242: [2509], 2: [3264], 152: [3276], 92: [3306], 170: [3324]}\n"
          ]
        }
      ]
    },
    {
      "cell_type": "markdown",
      "source": [
        "Below is the code for plotting the probability of clearing the board over number of mines and the average steps taken before hitting a mine over number of mines for both the logic bot and the network bot."
      ],
      "metadata": {
        "id": "zkiV5CmVRG9J"
      }
    },
    {
      "cell_type": "code",
      "source": [
        "#plot for logic wins vs bot wins\n",
        "sorted_logic_wins_data = dict(sorted(logic_won_dict.items()))\n",
        "sorted_nn_wins_data = dict(sorted(nn_won_dict.items()))\n",
        "\n",
        "logic_keys = list(sorted_logic_wins_data.keys())\n",
        "logic_values = list(sorted_logic_wins_data.values())\n",
        "\n",
        "nn_keys = list(sorted_nn_wins_data.keys())\n",
        "nn_values = list(sorted_nn_wins_data.values())\n",
        "\n",
        "plt.figure(figsize=(10, 5))\n",
        "plt.scatter(logic_keys, logic_values, c='blue', label='Logic Bot')\n",
        "plt.scatter(nn_keys, nn_values, c='red', label='Network Bot')\n",
        "plt.xlabel('Num of Mines')\n",
        "plt.ylabel('Wins')\n",
        "plt.title('Wins per Amt of Mines')\n",
        "plt.legend()\n",
        "plt.show()\n",
        "\n"
      ],
      "metadata": {
        "colab": {
          "base_uri": "https://localhost:8080/",
          "height": 487
        },
        "id": "D6Qb2QeNRGP8",
        "outputId": "17dbe3d2-f243-4be5-dc63-75aefa5e3776"
      },
      "execution_count": null,
      "outputs": [
        {
          "output_type": "display_data",
          "data": {
            "text/plain": [
              "<Figure size 1000x500 with 1 Axes>"
            ],
            "image/png": "[encoded data removed]"
          },
          "metadata": {}
        }
      ]
    },
    {
      "cell_type": "markdown",
      "source": [
        "Below is the code for the plot for the amount of steps taken for each amount of mines on the board for the logic bot and network bot."
      ],
      "metadata": {
        "id": "-sBuV-Z8T8Xl"
      }
    },
    {
      "cell_type": "code",
      "source": [
        "#plot for logic steps vs bot steps\n",
        "# sorted_logic_steps_data = dict(sorted(logic_steps_dict.items()))\n",
        "# sorted_nn_steps_data = dict(sorted(nn_steps_dict.items()))\n",
        "\n",
        "logic_keys = list(logic_steps_dict.keys())\n",
        "logic_values = [np.mean(values) for values in logic_steps_dict.values()]\n",
        "\n",
        "nn_keys = list(nn_steps_dict.keys())\n",
        "nn_values = [np.mean(values)/len(values) for values in nn_steps_dict.values()]\n",
        "\n",
        "plt.figure(figsize=(10, 5))\n",
        "plt.scatter(logic_keys, logic_values, c='blue', label='Logic Bot')\n",
        "plt.scatter(nn_keys, nn_values, c='red', label='Network Bot')\n",
        "plt.xlabel('Num of Mines')\n",
        "plt.ylabel('Avg Steps')\n",
        "plt.title('Avg Steps per Amt of Mines')\n",
        "plt.legend()\n",
        "plt.show()"
      ],
      "metadata": {
        "colab": {
          "base_uri": "https://localhost:8080/",
          "height": 487
        },
        "id": "K9GgMlA7T7Mb",
        "outputId": "791f8aaf-de45-4853-b84e-d3baec3c7f3f"
      },
      "execution_count": null,
      "outputs": [
        {
          "output_type": "display_data",
          "data": {
            "text/plain": [
              "<Figure size 1000x500 with 1 Axes>"
            ],
            "image/png": "[encoded data removed]"
          },
          "metadata": {}
        }
      ]
    },
    {
      "cell_type": "markdown",
      "source": [
        "#Task 2 Analysis\n",
        "\n",
        "As you can see from the results above, the loss during training decreased slightly, but not that much. The performance for both the logic bot and the network bot was bad, as they both won very small amounts of games out of 100. In terms of average steps before hitting a mine, the plot above shows that the network bot had a lower number of steps taken before hitting a mine compared to the logic bot, which shows the poor performance. I think I can attribute this poor performance to the training data generation and how I used my logic bot to generate data, which may not have been the best approach given the fact that the logic bot did not perform well when playing Minesweeper in general."
      ],
      "metadata": {
        "id": "P28oQiKeXcRD"
      }
    },
    {
      "cell_type": "markdown",
      "source": [
        "#TASK 3"
      ],
      "metadata": {
        "id": "2GwgzUT1XfL9"
      }
    },
    {
      "cell_type": "markdown",
      "source": [
        "The first step of task 3 is to create data for training the model. Since we want a model that will perform well on boards of varying sizes, I will generate data from the logic bot of game states of varying board sizes."
      ],
      "metadata": {
        "id": "DHj13ony9PSN"
      }
    },
    {
      "cell_type": "code",
      "source": [
        "device = torch.device(\"cuda\" if torch.cuda.is_available() else \"cpu\")"
      ],
      "metadata": {
        "id": "q5EnoZyQRbae"
      },
      "execution_count": null,
      "outputs": []
    },
    {
      "cell_type": "code",
      "source": [
        "class VariableSizeDataset(Dataset):\n",
        "    def __init__(self, game_states, targets, device):\n",
        "        self.game_states = game_states\n",
        "        self.targets = targets\n",
        "        self.device = device\n",
        "\n",
        "    def __len__(self):\n",
        "        return len(self.game_states)\n",
        "\n",
        "    def __getitem__(self, index):\n",
        "        return self.game_states[index].to(self.device), self.targets[index].to(self.device)"
      ],
      "metadata": {
        "id": "e6Drd5ohN3F0"
      },
      "execution_count": null,
      "outputs": []
    },
    {
      "cell_type": "code",
      "source": [
        "#generate data\n",
        "\n",
        "K_game_states = []\n",
        "K_targets = []\n",
        "for _ in range(100):\n",
        "  K = random.randint(5, 50)\n",
        "  num_cells = K * K\n",
        "  num_mines = random.randint(int(num_cells*.2), int(num_cells*.5))\n",
        "  board = make_board(K, K, num_mines)\n",
        "  #print(board)\n",
        "  result, game_states, targets, iteration = play_logic_bot(board, K, K)\n",
        "  K_game_states.extend(game_states)\n",
        "  K_targets.extend(targets)\n",
        "\n",
        "K_dataset = VariableSizeDataset(K_game_states, K_targets, device)\n",
        "K_train_loader = DataLoader(K_dataset, batch_size=1, shuffle=True)\n",
        "\n",
        "# K_game_states_tensor = torch.stack(K_game_states)\n",
        "# K_targets_tensor = torch.stack(K_targets)\n",
        "\n",
        "# K_dataset = TensorDataset(K_game_states_tensor, K_targets_tensor)\n",
        "# K_train_loader = DataLoader(K_dataset, batch_size=64, shuffle=True)"
      ],
      "metadata": {
        "id": "_C_IUeqb9Ovq"
      },
      "execution_count": null,
      "outputs": []
    },
    {
      "cell_type": "markdown",
      "source": [
        "Below is the model for playing minesweeper on varying board sizes. This network is different from the previous ones, as I implement transformer layers to account for input tensors of varying sizes. The previous models worked best for data where the input tensor was the same size across all data, so this new model adjusts for varying tensor sizes through the use of transformer layers. The network starts with an embedding layer (same as the previous models) that is used for encoding cell states. The embedded representation is then passed through transformer layers (I settled on using 2 layers due to memory usage), which help the model focus on key areas of the inputted game state by using self-attention mechanisms. Then, the tensor is passed through a linear layer that is dynamically created in the forward pass rather than the initial architecture to account for input tensors of varying sizes."
      ],
      "metadata": {
        "id": "6wQbfuSm-5mc"
      }
    },
    {
      "cell_type": "code",
      "source": [
        "class K_CNNModel(nn.Module):\n",
        "    def __init__(self, num_heads=2, num_transformer_layers=1):\n",
        "      super(K_CNNModel, self).__init__()\n",
        "      self.device = torch.device('cuda' if torch.cuda.is_available() else 'cpu')\n",
        "\n",
        "      self.embedding = nn.Embedding(11, 10).to(self.device)\n",
        "      #self.embedding = nn.Embedding(11, 10)\n",
        "\n",
        "      self.transformer_layers = nn.ModuleList(\n",
        "            [nn.TransformerEncoderLayer(d_model=10, nhead=num_heads).to(self.device) for _ in range(num_transformer_layers)]\n",
        "        )\n",
        "\n",
        "      #self.transformer_layers = self.transformer_layers.to(self.device)\n",
        "\n",
        "\n",
        "    def forward(self, input_tensor):\n",
        "      input_tensor = input_tensor.to(self.device)\n",
        "\n",
        "      batch_size, height, width = input_tensor.size()\n",
        "      input_tensor = input_tensor.long() + 2\n",
        "      output = self.embedding(input_tensor)\n",
        "\n",
        "      output = output.view(batch_size, -1, 10)  #flatten height and width\n",
        "      positional_encoding = torch.randn(1, height * width, 10, device=self.device)\n",
        "\n",
        "      output = output + positional_encoding\n",
        "\n",
        "      output = output.permute(1, 0, 2)   #(sequence_length, batch_size, embedding_dim)\n",
        "\n",
        "      for layer in self.transformer_layers:\n",
        "        output = layer(output)\n",
        "\n",
        "      output = output.permute(1, 0, 2).contiguous()  #(batch_size, sequence_length, embedding_dim)\n",
        "      output = output.view(batch_size, -1)  #flatten again\n",
        "\n",
        "      #create the linear layer based on input_tensor's height and width\n",
        "      output_layer = nn.Linear(height * width * 10, height * width).to(self.device)\n",
        "      output = output_layer(output)\n",
        "      output = torch.nn.functional.softmax(output, dim=1)\n",
        "      return output\n",
        "\n",
        "\n",
        "def train_K_games(train_loader, model, num_epochs=10):\n",
        "  loss_fn = nn.MSELoss()\n",
        "  optimizer = optim.Adam(model.parameters(), lr=0.001)\n",
        "\n",
        "  train_loss = []\n",
        "\n",
        "  for epoch in range(num_epochs):\n",
        "    total_loss = 0\n",
        "\n",
        "    for game_states, targets in train_loader:\n",
        "      game_states, targets = game_states.to(model.device), targets.to(model.device)\n",
        "      optimizer.zero_grad()\n",
        "      outputs = model(game_states)\n",
        "\n",
        "      # outputs.unsqueeze(0)\n",
        "      # print(outputs.size())\n",
        "      # print(\"outputs\", outputs)\n",
        "\n",
        "      # print(targets.size())\n",
        "      # print(targets)\n",
        "\n",
        "      targets = targets.view(targets.size(0), -1)\n",
        "\n",
        "      loss = loss_fn(outputs, targets.float())  #may have to change this\n",
        "\n",
        "      loss.backward()\n",
        "      optimizer.step()\n",
        "\n",
        "      total_loss += loss.item()\n",
        "      train_loss.append(loss)\n",
        "\n",
        "    print(\"loss at epoch\", train_loss[-1])"
      ],
      "metadata": {
        "id": "sbQ_Zn1k7KXB"
      },
      "execution_count": null,
      "outputs": []
    },
    {
      "cell_type": "code",
      "source": [
        "K_model = K_CNNModel()\n",
        "train_K_games(K_train_loader, K_model, num_epochs=10)"
      ],
      "metadata": {
        "colab": {
          "base_uri": "https://localhost:8080/",
          "height": 382
        },
        "id": "G-o1Urqk7DAZ",
        "outputId": "2abcdae2-f34b-402d-cd13-6b9f82db0d98"
      },
      "execution_count": null,
      "outputs": [
        {
          "output_type": "error",
          "ename": "OutOfMemoryError",
          "evalue": "CUDA out of memory. Tried to allocate 120.00 MiB. GPU 0 has a total capacity of 14.75 GiB of which 121.06 MiB is free. Process 310463 has 14.63 GiB memory in use. Of the allocated memory 14.30 GiB is allocated by PyTorch, and 203.92 MiB is reserved by PyTorch but unallocated. If reserved but unallocated memory is large try setting PYTORCH_CUDA_ALLOC_CONF=expandable_segments:True to avoid fragmentation.  See documentation for Memory Management  (https://pytorch.org/docs/stable/notes/cuda.html#environment-variables)",
          "traceback": [
            "\u001b[0;31m---------------------------------------------------------------------------\u001b[0m",
            "\u001b[0;31mOutOfMemoryError\u001b[0m                          Traceback (most recent call last)",
            "\u001b[0;32m<ipython-input-10-f43912181c1e>\u001b[0m in \u001b[0;36m<cell line: 2>\u001b[0;34m()\u001b[0m\n\u001b[1;32m      1\u001b[0m \u001b[0mK_model\u001b[0m \u001b[0;34m=\u001b[0m \u001b[0mK_CNNModel\u001b[0m\u001b[0;34m(\u001b[0m\u001b[0;34m)\u001b[0m\u001b[0;34m\u001b[0m\u001b[0;34m\u001b[0m\u001b[0m\n\u001b[0;32m----> 2\u001b[0;31m \u001b[0mtrain_K_games\u001b[0m\u001b[0;34m(\u001b[0m\u001b[0mK_train_loader\u001b[0m\u001b[0;34m,\u001b[0m \u001b[0mK_model\u001b[0m\u001b[0;34m,\u001b[0m \u001b[0mnum_epochs\u001b[0m\u001b[0;34m=\u001b[0m\u001b[0;36m10\u001b[0m\u001b[0;34m)\u001b[0m\u001b[0;34m\u001b[0m\u001b[0;34m\u001b[0m\u001b[0m\n\u001b[0m",
            "\u001b[0;32m<ipython-input-9-20a4844b00d9>\u001b[0m in \u001b[0;36mtrain_K_games\u001b[0;34m(train_loader, model, num_epochs)\u001b[0m\n\u001b[1;32m     53\u001b[0m       \u001b[0mgame_states\u001b[0m\u001b[0;34m,\u001b[0m \u001b[0mtargets\u001b[0m \u001b[0;34m=\u001b[0m \u001b[0mgame_states\u001b[0m\u001b[0;34m.\u001b[0m\u001b[0mto\u001b[0m\u001b[0;34m(\u001b[0m\u001b[0mmodel\u001b[0m\u001b[0;34m.\u001b[0m\u001b[0mdevice\u001b[0m\u001b[0;34m)\u001b[0m\u001b[0;34m,\u001b[0m \u001b[0mtargets\u001b[0m\u001b[0;34m.\u001b[0m\u001b[0mto\u001b[0m\u001b[0;34m(\u001b[0m\u001b[0mmodel\u001b[0m\u001b[0;34m.\u001b[0m\u001b[0mdevice\u001b[0m\u001b[0;34m)\u001b[0m\u001b[0;34m\u001b[0m\u001b[0;34m\u001b[0m\u001b[0m\n\u001b[1;32m     54\u001b[0m       \u001b[0moptimizer\u001b[0m\u001b[0;34m.\u001b[0m\u001b[0mzero_grad\u001b[0m\u001b[0;34m(\u001b[0m\u001b[0;34m)\u001b[0m\u001b[0;34m\u001b[0m\u001b[0;34m\u001b[0m\u001b[0m\n\u001b[0;32m---> 55\u001b[0;31m       \u001b[0moutputs\u001b[0m \u001b[0;34m=\u001b[0m \u001b[0mmodel\u001b[0m\u001b[0;34m(\u001b[0m\u001b[0mgame_states\u001b[0m\u001b[0;34m)\u001b[0m\u001b[0;34m\u001b[0m\u001b[0;34m\u001b[0m\u001b[0m\n\u001b[0m\u001b[1;32m     56\u001b[0m \u001b[0;34m\u001b[0m\u001b[0m\n\u001b[1;32m     57\u001b[0m       \u001b[0;31m# outputs.unsqueeze(0)\u001b[0m\u001b[0;34m\u001b[0m\u001b[0;34m\u001b[0m\u001b[0m\n",
            "\u001b[0;32m/usr/local/lib/python3.10/dist-packages/torch/nn/modules/module.py\u001b[0m in \u001b[0;36m_wrapped_call_impl\u001b[0;34m(self, *args, **kwargs)\u001b[0m\n\u001b[1;32m   1509\u001b[0m             \u001b[0;32mreturn\u001b[0m \u001b[0mself\u001b[0m\u001b[0;34m.\u001b[0m\u001b[0m_compiled_call_impl\u001b[0m\u001b[0;34m(\u001b[0m\u001b[0;34m*\u001b[0m\u001b[0margs\u001b[0m\u001b[0;34m,\u001b[0m \u001b[0;34m**\u001b[0m\u001b[0mkwargs\u001b[0m\u001b[0;34m)\u001b[0m  \u001b[0;31m# type: ignore[misc]\u001b[0m\u001b[0;34m\u001b[0m\u001b[0;34m\u001b[0m\u001b[0m\n\u001b[1;32m   1510\u001b[0m         \u001b[0;32melse\u001b[0m\u001b[0;34m:\u001b[0m\u001b[0;34m\u001b[0m\u001b[0;34m\u001b[0m\u001b[0m\n\u001b[0;32m-> 1511\u001b[0;31m             \u001b[0;32mreturn\u001b[0m \u001b[0mself\u001b[0m\u001b[0;34m.\u001b[0m\u001b[0m_call_impl\u001b[0m\u001b[0;34m(\u001b[0m\u001b[0;34m*\u001b[0m\u001b[0margs\u001b[0m\u001b[0;34m,\u001b[0m \u001b[0;34m**\u001b[0m\u001b[0mkwargs\u001b[0m\u001b[0;34m)\u001b[0m\u001b[0;34m\u001b[0m\u001b[0;34m\u001b[0m\u001b[0m\n\u001b[0m\u001b[1;32m   1512\u001b[0m \u001b[0;34m\u001b[0m\u001b[0m\n\u001b[1;32m   1513\u001b[0m     \u001b[0;32mdef\u001b[0m \u001b[0m_call_impl\u001b[0m\u001b[0;34m(\u001b[0m\u001b[0mself\u001b[0m\u001b[0;34m,\u001b[0m \u001b[0;34m*\u001b[0m\u001b[0margs\u001b[0m\u001b[0;34m,\u001b[0m \u001b[0;34m**\u001b[0m\u001b[0mkwargs\u001b[0m\u001b[0;34m)\u001b[0m\u001b[0;34m:\u001b[0m\u001b[0;34m\u001b[0m\u001b[0;34m\u001b[0m\u001b[0m\n",
            "\u001b[0;32m/usr/local/lib/python3.10/dist-packages/torch/nn/modules/module.py\u001b[0m in \u001b[0;36m_call_impl\u001b[0;34m(self, *args, **kwargs)\u001b[0m\n\u001b[1;32m   1518\u001b[0m                 \u001b[0;32mor\u001b[0m \u001b[0m_global_backward_pre_hooks\u001b[0m \u001b[0;32mor\u001b[0m \u001b[0m_global_backward_hooks\u001b[0m\u001b[0;34m\u001b[0m\u001b[0;34m\u001b[0m\u001b[0m\n\u001b[1;32m   1519\u001b[0m                 or _global_forward_hooks or _global_forward_pre_hooks):\n\u001b[0;32m-> 1520\u001b[0;31m             \u001b[0;32mreturn\u001b[0m \u001b[0mforward_call\u001b[0m\u001b[0;34m(\u001b[0m\u001b[0;34m*\u001b[0m\u001b[0margs\u001b[0m\u001b[0;34m,\u001b[0m \u001b[0;34m**\u001b[0m\u001b[0mkwargs\u001b[0m\u001b[0;34m)\u001b[0m\u001b[0;34m\u001b[0m\u001b[0;34m\u001b[0m\u001b[0m\n\u001b[0m\u001b[1;32m   1521\u001b[0m \u001b[0;34m\u001b[0m\u001b[0m\n\u001b[1;32m   1522\u001b[0m         \u001b[0;32mtry\u001b[0m\u001b[0;34m:\u001b[0m\u001b[0;34m\u001b[0m\u001b[0;34m\u001b[0m\u001b[0m\n",
            "\u001b[0;32m<ipython-input-9-20a4844b00d9>\u001b[0m in \u001b[0;36mforward\u001b[0;34m(self, input_tensor)\u001b[0m\n\u001b[1;32m     35\u001b[0m \u001b[0;34m\u001b[0m\u001b[0m\n\u001b[1;32m     36\u001b[0m       \u001b[0;31m#create the linear layer based on input_tensor's height and width\u001b[0m\u001b[0;34m\u001b[0m\u001b[0;34m\u001b[0m\u001b[0m\n\u001b[0;32m---> 37\u001b[0;31m       \u001b[0moutput_layer\u001b[0m \u001b[0;34m=\u001b[0m \u001b[0mnn\u001b[0m\u001b[0;34m.\u001b[0m\u001b[0mLinear\u001b[0m\u001b[0;34m(\u001b[0m\u001b[0mheight\u001b[0m \u001b[0;34m*\u001b[0m \u001b[0mwidth\u001b[0m \u001b[0;34m*\u001b[0m \u001b[0;36m10\u001b[0m\u001b[0;34m,\u001b[0m \u001b[0mheight\u001b[0m \u001b[0;34m*\u001b[0m \u001b[0mwidth\u001b[0m\u001b[0;34m)\u001b[0m\u001b[0;34m.\u001b[0m\u001b[0mto\u001b[0m\u001b[0;34m(\u001b[0m\u001b[0mself\u001b[0m\u001b[0;34m.\u001b[0m\u001b[0mdevice\u001b[0m\u001b[0;34m)\u001b[0m\u001b[0;34m\u001b[0m\u001b[0;34m\u001b[0m\u001b[0m\n\u001b[0m\u001b[1;32m     38\u001b[0m       \u001b[0moutput\u001b[0m \u001b[0;34m=\u001b[0m \u001b[0moutput_layer\u001b[0m\u001b[0;34m(\u001b[0m\u001b[0moutput\u001b[0m\u001b[0;34m)\u001b[0m\u001b[0;34m\u001b[0m\u001b[0;34m\u001b[0m\u001b[0m\n\u001b[1;32m     39\u001b[0m       \u001b[0moutput\u001b[0m \u001b[0;34m=\u001b[0m \u001b[0mtorch\u001b[0m\u001b[0;34m.\u001b[0m\u001b[0mnn\u001b[0m\u001b[0;34m.\u001b[0m\u001b[0mfunctional\u001b[0m\u001b[0;34m.\u001b[0m\u001b[0msoftmax\u001b[0m\u001b[0;34m(\u001b[0m\u001b[0moutput\u001b[0m\u001b[0;34m,\u001b[0m \u001b[0mdim\u001b[0m\u001b[0;34m=\u001b[0m\u001b[0;36m1\u001b[0m\u001b[0;34m)\u001b[0m\u001b[0;34m\u001b[0m\u001b[0;34m\u001b[0m\u001b[0m\n",
            "\u001b[0;32m/usr/local/lib/python3.10/dist-packages/torch/nn/modules/module.py\u001b[0m in \u001b[0;36mto\u001b[0;34m(self, *args, **kwargs)\u001b[0m\n\u001b[1;32m   1150\u001b[0m             \u001b[0;32mreturn\u001b[0m \u001b[0mt\u001b[0m\u001b[0;34m.\u001b[0m\u001b[0mto\u001b[0m\u001b[0;34m(\u001b[0m\u001b[0mdevice\u001b[0m\u001b[0;34m,\u001b[0m \u001b[0mdtype\u001b[0m \u001b[0;32mif\u001b[0m \u001b[0mt\u001b[0m\u001b[0;34m.\u001b[0m\u001b[0mis_floating_point\u001b[0m\u001b[0;34m(\u001b[0m\u001b[0;34m)\u001b[0m \u001b[0;32mor\u001b[0m \u001b[0mt\u001b[0m\u001b[0;34m.\u001b[0m\u001b[0mis_complex\u001b[0m\u001b[0;34m(\u001b[0m\u001b[0;34m)\u001b[0m \u001b[0;32melse\u001b[0m \u001b[0;32mNone\u001b[0m\u001b[0;34m,\u001b[0m \u001b[0mnon_blocking\u001b[0m\u001b[0;34m)\u001b[0m\u001b[0;34m\u001b[0m\u001b[0;34m\u001b[0m\u001b[0m\n\u001b[1;32m   1151\u001b[0m \u001b[0;34m\u001b[0m\u001b[0m\n\u001b[0;32m-> 1152\u001b[0;31m         \u001b[0;32mreturn\u001b[0m \u001b[0mself\u001b[0m\u001b[0;34m.\u001b[0m\u001b[0m_apply\u001b[0m\u001b[0;34m(\u001b[0m\u001b[0mconvert\u001b[0m\u001b[0;34m)\u001b[0m\u001b[0;34m\u001b[0m\u001b[0;34m\u001b[0m\u001b[0m\n\u001b[0m\u001b[1;32m   1153\u001b[0m \u001b[0;34m\u001b[0m\u001b[0m\n\u001b[1;32m   1154\u001b[0m     def register_full_backward_pre_hook(\n",
            "\u001b[0;32m/usr/local/lib/python3.10/dist-packages/torch/nn/modules/module.py\u001b[0m in \u001b[0;36m_apply\u001b[0;34m(self, fn, recurse)\u001b[0m\n\u001b[1;32m    823\u001b[0m             \u001b[0;31m# `with torch.no_grad():`\u001b[0m\u001b[0;34m\u001b[0m\u001b[0;34m\u001b[0m\u001b[0m\n\u001b[1;32m    824\u001b[0m             \u001b[0;32mwith\u001b[0m \u001b[0mtorch\u001b[0m\u001b[0;34m.\u001b[0m\u001b[0mno_grad\u001b[0m\u001b[0;34m(\u001b[0m\u001b[0;34m)\u001b[0m\u001b[0;34m:\u001b[0m\u001b[0;34m\u001b[0m\u001b[0;34m\u001b[0m\u001b[0m\n\u001b[0;32m--> 825\u001b[0;31m                 \u001b[0mparam_applied\u001b[0m \u001b[0;34m=\u001b[0m \u001b[0mfn\u001b[0m\u001b[0;34m(\u001b[0m\u001b[0mparam\u001b[0m\u001b[0;34m)\u001b[0m\u001b[0;34m\u001b[0m\u001b[0;34m\u001b[0m\u001b[0m\n\u001b[0m\u001b[1;32m    826\u001b[0m             \u001b[0mshould_use_set_data\u001b[0m \u001b[0;34m=\u001b[0m \u001b[0mcompute_should_use_set_data\u001b[0m\u001b[0;34m(\u001b[0m\u001b[0mparam\u001b[0m\u001b[0;34m,\u001b[0m \u001b[0mparam_applied\u001b[0m\u001b[0;34m)\u001b[0m\u001b[0;34m\u001b[0m\u001b[0;34m\u001b[0m\u001b[0m\n\u001b[1;32m    827\u001b[0m             \u001b[0;32mif\u001b[0m \u001b[0mshould_use_set_data\u001b[0m\u001b[0;34m:\u001b[0m\u001b[0;34m\u001b[0m\u001b[0;34m\u001b[0m\u001b[0m\n",
            "\u001b[0;32m/usr/local/lib/python3.10/dist-packages/torch/nn/modules/module.py\u001b[0m in \u001b[0;36mconvert\u001b[0;34m(t)\u001b[0m\n\u001b[1;32m   1148\u001b[0m                 return t.to(device, dtype if t.is_floating_point() or t.is_complex() else None,\n\u001b[1;32m   1149\u001b[0m                             non_blocking, memory_format=convert_to_format)\n\u001b[0;32m-> 1150\u001b[0;31m             \u001b[0;32mreturn\u001b[0m \u001b[0mt\u001b[0m\u001b[0;34m.\u001b[0m\u001b[0mto\u001b[0m\u001b[0;34m(\u001b[0m\u001b[0mdevice\u001b[0m\u001b[0;34m,\u001b[0m \u001b[0mdtype\u001b[0m \u001b[0;32mif\u001b[0m \u001b[0mt\u001b[0m\u001b[0;34m.\u001b[0m\u001b[0mis_floating_point\u001b[0m\u001b[0;34m(\u001b[0m\u001b[0;34m)\u001b[0m \u001b[0;32mor\u001b[0m \u001b[0mt\u001b[0m\u001b[0;34m.\u001b[0m\u001b[0mis_complex\u001b[0m\u001b[0;34m(\u001b[0m\u001b[0;34m)\u001b[0m \u001b[0;32melse\u001b[0m \u001b[0;32mNone\u001b[0m\u001b[0;34m,\u001b[0m \u001b[0mnon_blocking\u001b[0m\u001b[0;34m)\u001b[0m\u001b[0;34m\u001b[0m\u001b[0;34m\u001b[0m\u001b[0m\n\u001b[0m\u001b[1;32m   1151\u001b[0m \u001b[0;34m\u001b[0m\u001b[0m\n\u001b[1;32m   1152\u001b[0m         \u001b[0;32mreturn\u001b[0m \u001b[0mself\u001b[0m\u001b[0;34m.\u001b[0m\u001b[0m_apply\u001b[0m\u001b[0;34m(\u001b[0m\u001b[0mconvert\u001b[0m\u001b[0;34m)\u001b[0m\u001b[0;34m\u001b[0m\u001b[0;34m\u001b[0m\u001b[0m\n",
            "\u001b[0;31mOutOfMemoryError\u001b[0m: CUDA out of memory. Tried to allocate 120.00 MiB. GPU 0 has a total capacity of 14.75 GiB of which 121.06 MiB is free. Process 310463 has 14.63 GiB memory in use. Of the allocated memory 14.30 GiB is allocated by PyTorch, and 203.92 MiB is reserved by PyTorch but unallocated. If reserved but unallocated memory is large try setting PYTORCH_CUDA_ALLOC_CONF=expandable_segments:True to avoid fragmentation.  See documentation for Memory Management  (https://pytorch.org/docs/stable/notes/cuda.html#environment-variables)"
          ]
        }
      ]
    },
    {
      "cell_type": "markdown",
      "source": [
        "Below is the code for comparing the performance of the logic bot and network bot on boards of varying sizes. I am using the probability of winning games and average number of steps before bot hits a mine as metrics of performance."
      ],
      "metadata": {
        "id": "ZGqNRIcI7D15"
      }
    },
    {
      "cell_type": "code",
      "source": [
        "#code for comparing the logic bot and network bot\n",
        "\n",
        "logic_won_dict = {}\n",
        "nn_won_dict = {}\n",
        "\n",
        "logic_steps_dict = {}\n",
        "nn_steps_dict = {}\n",
        "\n",
        "# mine_height = 30\n",
        "# mine_width = 30\n",
        "\n",
        "test_mine_boards = []\n",
        "for _ in range(100):\n",
        "  K = random.randint(5, 50)\n",
        "  num_cells = K * K\n",
        "  num_mines = random.randint(num_cells*.2, num_cells)\n",
        "  board = make_board(K, K, num_mines)\n",
        "  test_mine_boards.append((board, K))\n",
        "\n",
        "logic_games_won = 0\n",
        "logic_steps = 0\n",
        "\n",
        "nn_games_won = 0\n",
        "nn_steps = 0\n",
        "\n",
        "for board, K in test_mine_boards:\n",
        "  logic_game_won, _, _, logic_step = play_logic_bot(board, mine_height, mine_width)\n",
        "  nn_game_won, nn_step = network_bot_play(K_model, board, mine_height, mine_width)\n",
        "\n",
        "  #saves the amount of logic games won for each amt of mines in the board\n",
        "  if logic_game_won:\n",
        "    logic_games_won += 1\n",
        "    if K not in logic_won_dict:\n",
        "      logic_won_dict[K] = logic_games_won\n",
        "    else:\n",
        "      logic_won_dict[K] += 1\n",
        "  else:\n",
        "    if K not in logic_won_dict:\n",
        "      logic_won_dict[K] = 0\n",
        "\n",
        "  #saves the amount of nn games won for each amt of mines in the board\n",
        "  if nn_game_won:\n",
        "    nn_games_won += 1\n",
        "    if K not in nn_won_dict:\n",
        "      nn_won_dict[K] = nn_games_won\n",
        "    else:\n",
        "      nn_won_dict[K] += 1\n",
        "  else:\n",
        "    if K not in nn_won_dict:\n",
        "      nn_won_dict[K] = 0\n",
        "\n",
        "  #saves the amount of steps the logic bot takes for each amt of mines in the board\n",
        "  logic_steps += logic_step\n",
        "  if K not in logic_steps_dict:\n",
        "    logic_steps_dict[K] = [logic_steps]\n",
        "  else:\n",
        "    logic_steps_dict[K].append(logic_step)\n",
        "\n",
        "  #saves the amount of steps the nn bot takes for each amt of mines in the board\n",
        "  nn_steps += nn_step\n",
        "  if K not in nn_steps_dict:\n",
        "    nn_steps_dict[K] = [nn_steps]\n",
        "  else:\n",
        "    nn_steps_dict[K].append(nn_step)"
      ],
      "metadata": {
        "id": "qJ6tjN0c3B1K"
      },
      "execution_count": null,
      "outputs": []
    },
    {
      "cell_type": "markdown",
      "source": [
        "Below is the code for plotting the performance metrics"
      ],
      "metadata": {
        "id": "KfM5LjgXlto0"
      }
    },
    {
      "cell_type": "code",
      "source": [
        "#plot for logic wins vs bot wins\n",
        "sorted_logic_wins_data = dict(sorted(logic_won_dict.items()))\n",
        "sorted_nn_wins_data = dict(sorted(nn_won_dict.items()))\n",
        "\n",
        "logic_keys = list(sorted_logic_wins_data.keys())\n",
        "logic_values = list(sorted_logic_wins_data.values())\n",
        "\n",
        "nn_keys = list(sorted_nn_wins_data.keys())\n",
        "nn_values = list(sorted_nn_wins_data.values())\n",
        "\n",
        "plt.figure(figsize=(10, 5))\n",
        "plt.scatter(logic_keys, logic_values, c='blue', label='Logic Bot')\n",
        "plt.scatter(nn_keys, nn_values, c='red', label='Network Bot')\n",
        "plt.xlabel('K')\n",
        "plt.ylabel('Wins')\n",
        "plt.title('Wins per K')\n",
        "plt.legend()\n",
        "plt.show()\n"
      ],
      "metadata": {
        "id": "nyu4hW1-lsDp"
      },
      "execution_count": null,
      "outputs": []
    },
    {
      "cell_type": "code",
      "source": [
        "#plot for logic bot avg steps vs network bot avg steps\n",
        "\n",
        "logic_keys = list(logic_steps_dict.keys())\n",
        "logic_values = [np.mean(values) for values in logic_steps_dict.values()]\n",
        "\n",
        "nn_keys = list(nn_steps_dict.keys())\n",
        "nn_values = [np.mean(values) for values in nn_steps_dict.values()]\n",
        "\n",
        "plt.figure(figsize=(10, 5))\n",
        "plt.scatter(logic_keys, logic_values, c='blue', label='Logic Bot')\n",
        "plt.scatter(nn_keys, nn_values, c='red', label='Network Bot')\n",
        "plt.xlabel('K')\n",
        "plt.ylabel('Avg Steps')\n",
        "plt.title('Avg Steps per K')\n",
        "plt.legend()\n",
        "plt.show()"
      ],
      "metadata": {
        "id": "MJGCOl8poUZO"
      },
      "execution_count": null,
      "outputs": []
    },
    {
      "cell_type": "markdown",
      "source": [
        "#Analysis and Explanation of Task 3\n",
        "\n",
        "As you can see above, I was unable to run my CNN for task 3. I ran into issues regarding my network because I was attempting to use transformer layers to have a better model architecture for minesweeper boards of varying sizes. I decided to use transformer layers because of its ability to capture long-range dependencies and adapt to inputs of varied sizes. Transformers are generally used for the understanding of spatial relationships between different parts of the input, which is something that is important for Minesweeper because the location of mines may often depend on cells that are further away. Transformers are also able to naturally handle inputs of varying sizes, which is why utilizing those layers in my model for task 3 was important. Unfortunately, I struggled with training the model, due to the issue with my GPU memory running out of space, so I could not test out the performance of the improved model with the logic bot, but my hope is that my improved model would perform better than the logic bot. This, however, is largely based on how good the training data is, and in my case, my training data was not always the best due to my logic bot not winning many games.\n"
      ],
      "metadata": {
        "id": "cdXZJJUxoiRe"
      }
    },
    {
      "cell_type": "markdown",
      "source": [
        "#TASK 4"
      ],
      "metadata": {
        "id": "l-S_mn_MBKZP"
      }
    },
    {
      "cell_type": "markdown",
      "source": [
        "You could approach the problem of generating good board to play on by building a generative model based on neural networks. You could develop something where the input could be a set board size and the output would be a corresponding Minesweeper board. The neural network would then be trained on boards that previous bots performed well on, which would then result in a neural network model that performs well and plays Minesweeper well. You could evaluate the quality of the generated boards by comparing them to other previous successful boards and look at mine placements as well as the amount of clear cells around the mines to see if the generated boards are of good quality. This would allow us to make sure that the model produces boards that are accurate to what a Minesweeper board would be without making the boards too easy to win."
      ],
      "metadata": {
        "id": "1X_6SbHGBMiW"
      }
    }
  ]
}